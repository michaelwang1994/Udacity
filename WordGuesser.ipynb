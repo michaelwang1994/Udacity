{
 "cells": [
  {
   "cell_type": "code",
   "execution_count": 1,
   "metadata": {
    "collapsed": false
   },
   "outputs": [
    {
     "name": "stdout",
     "output_type": "stream",
     "text": [
      "come\n"
     ]
    }
   ],
   "source": [
    "#------------------------------------------------------------------\n",
    "\n",
    "#\n",
    "#   Bayes Optimal Classifier\n",
    "#\n",
    "#   In this quiz we will compute the optimal label for a second missing word in a row\n",
    "#   based on the possible words that could be in the first blank\n",
    "#\n",
    "#   Finish the procedurce, LaterWords(), below\n",
    "#\n",
    "#   You may want to import your code from the previous programming exercise!\n",
    "#\n",
    "from collections import Counter\n",
    "sample_memo = '''\n",
    "Milt, we're gonna need to go ahead and move you downstairs into storage B. We have some new people coming in, and we need all the space we can get. So if you could just go ahead and pack up your stuff and move it down there, that would be terrific, OK?\n",
    "Oh, and remember: next Friday... is Hawaiian shirt day. So, you know, if you want to, go ahead and wear a Hawaiian shirt and jeans.\n",
    "Oh, oh, and I almost forgot. Ahh, I'm also gonna need you to go ahead and come in on Sunday, too...\n",
    "Hello Peter, whats happening? Ummm, I'm gonna need you to go ahead and come in tomorrow. So if you could be here around 9 that would be great, mmmk... oh oh! and I almost forgot ahh, I'm also gonna need you to go ahead and come in on Sunday too, kay. We ahh lost some people this week and ah, we sorta need to play catch up.\n",
    "'''\n",
    "\n",
    "corrupted_memo = '''\n",
    "Yeah, I'm gonna --- you to go ahead --- --- complain about this. Oh, and if you could --- --- and sit at the kids' table, that'd be --- \n",
    "'''\n",
    "\n",
    "data_list = sample_memo.strip().split()\n",
    "\n",
    "words_to_guess = [\"ahead\",\"could\"]\n",
    "\n",
    "def NextWordProbability(sampletext,word):\n",
    "    \n",
    "    word_list = sampletext.split(word)[1:]\n",
    "    \n",
    "    word_dict = {}\n",
    "    i = 0\n",
    "    for word_group in word_list:\n",
    "        word_after = word_group.split()[0]\n",
    "        if word_after in word_dict:\n",
    "            word_dict[word_after] += 1\n",
    "        else:\n",
    "            word_dict[word_after] = 1\n",
    "        i += 1\n",
    "    for word in word_dict:\n",
    "        word_dict[word] = word_dict[word] / i\n",
    "    return word_dict\n",
    "\n",
    "def LaterWords(sample,word,distance):\n",
    "    '''@param sample: a sample of text to draw from\n",
    "    @param word: a word occuring before a corrupted sequence\n",
    "    @param distance: how many words later to estimate (i.e. 1 for the next word, 2 for the word after that)\n",
    "    @returns: a single word which is the most likely possibility\n",
    "    '''\n",
    "    \n",
    "    word_dict = {word: []}\n",
    "    counter_dict = {}\n",
    "    final_dict = {}\n",
    "    for word_group in sample.split(word)[1:]:\n",
    "        word_dict[word].append(word_group.split()[0])\n",
    "        counter_dict[word] = Counter(word_dict[word])\n",
    "        for words_after in range(1, distance): \n",
    "            \n",
    "            prior = word_group.split()[words_after - 1]\n",
    "            posterior = word_group.split()[words_after]\n",
    "            \n",
    "            if prior in word_dict:\n",
    "                word_dict[prior].append(posterior)\n",
    "            else:\n",
    "                word_dict[prior] = [posterior]\n",
    "            counter_dict[prior] = Counter(word_dict[prior])\n",
    "        \n",
    "    # TODO: Given a word, collect the relative probabilities of possible following words\n",
    "    # from @sample. You may want to import your code from the maximum likelihood exercise.\n",
    "    for key, value in counter_dict[word].items():\n",
    "        for key2, value2 in counter_dict[key].items():\n",
    "            final_dict[key, key2] = value*value2\n",
    "    \n",
    "    # TODO: Repeat the above process--for each distance beyond 1, evaluate the words that\n",
    "    # might come after each word, and combine them weighting by relative probability\n",
    "    # into an estimate of what might appear next.\n",
    "    return max(final_dict, key=lambda i: final_dict[i])[1]\n",
    "    \n",
    "print LaterWords(sample_memo,\"ahead\",2)"
   ]
  },
  {
   "cell_type": "code",
   "execution_count": null,
   "metadata": {
    "collapsed": true
   },
   "outputs": [],
   "source": []
  }
 ],
 "metadata": {
  "kernelspec": {
   "display_name": "Python 2",
   "language": "python",
   "name": "python2"
  },
  "language_info": {
   "codemirror_mode": {
    "name": "ipython",
    "version": 2
   },
   "file_extension": ".py",
   "mimetype": "text/x-python",
   "name": "python",
   "nbconvert_exporter": "python",
   "pygments_lexer": "ipython2",
   "version": "2.7.11"
  }
 },
 "nbformat": 4,
 "nbformat_minor": 0
}
