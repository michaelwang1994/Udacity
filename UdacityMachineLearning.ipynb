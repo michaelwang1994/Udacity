{
 "cells": [
  {
   "cell_type": "code",
   "execution_count": 1,
   "metadata": {
    "collapsed": false
   },
   "outputs": [
    {
     "name": "stderr",
     "output_type": "stream",
     "text": [
      "/Users/hechengwang/anaconda/lib/python2.7/site-packages/matplotlib/font_manager.py:273: UserWarning: Matplotlib is building the font cache using fc-list. This may take a moment.\n",
      "  warnings.warn('Matplotlib is building the font cache using fc-list. This may take a moment.')\n"
     ]
    }
   ],
   "source": [
    "import numpy as np\n",
    "import matplotlib as mpl\n",
    "from matplotlib import pyplot as plt\n",
    "%matplotlib inline"
   ]
  },
  {
   "cell_type": "markdown",
   "metadata": {},
   "source": [
    "# Stats\n",
    "\n",
    "\n",
    "* Population Standard Deviation\n",
    "    * $ \\sigma = \\sqrt{\\dfrac{\\Sigma(x - \\bar{x})}{n}} $\n",
    "* Sample Standard Deviation\n",
    "    * $ s = \\sqrt{\\dfrac{\\Sigma(x - \\bar{x})}{n - 1}} $\n",
    "    * The \"-1\" makes the SD larger, to account for the population SD.\n",
    "* Precision\n",
    "    * $ \\dfrac{\\text{True Positives}}{\\text{True Positives + False Positives}} $\n",
    "* Recall\n",
    "    * $ \\dfrac{\\text{True Positives}}{\\text{True Positives + False Negatives}} $\n",
    "* F1 Score\n",
    "    * $ \\dfrac{2 * (\\text{precision} * \\text{recall})}{(\\text{precision} + \\text{recall})} $\n",
    "    * The F1 score can be interpreted as a weighted average of the precision and recall, where an F1 score reaches its best value at 1 and worst at 0\n",
    "* Bias/Variance\n",
    "    * Bias is underfitting (oversimplification) and Variance is overfitting (overcomplification)\n",
    "* Entropy\n",
    "    * $ \\sum_{i} -p_i \\log_2(p_i) $\n",
    "    * with $p_i$ being the fraction of examples in class i\n",
    "* Information Gain\n",
    "    * entropy(parent) - [weighted average] * entropy(children)\n",
    "        * Decision trees try to maximize informtion gain\n",
    "* Sigmoid\n",
    "    * $ \\sigma(a) = \\dfrac{1} {1 + e^{-a}} $\n",
    "* Bayes Rule\n",
    "    * $ Pr(h|D) = \\dfrac{Pr(D|h)Pr(h)}{Pr(D)} $\n",
    "        * $ Pr(D) $ is the prior on the data\n",
    "        * $ Pr(D|h) $ is the data given the hypothesis"
   ]
  },
  {
   "cell_type": "code",
   "execution_count": 2,
   "metadata": {
    "collapsed": false
   },
   "outputs": [
    {
     "data": {
      "image/png": "[encoded data removed]",
      "text/plain": [
       "<matplotlib.figure.Figure at 0x10404a7d0>"
      ]
     },
     "metadata": {},
     "output_type": "display_data"
    }
   ],
   "source": [
    "a = np.arange(-10, 10, 0.01)\n",
    "plt.plot(a, 1/(1 + np.exp(-a)));"
   ]
  },
  {
   "cell_type": "markdown",
   "metadata": {},
   "source": [
    "# Machine Learning\n",
    "\n",
    "* Neural Networks\n",
    "    * $ \\sum_{i = 1}^K x_iw_i \\ge \\theta $ with the first term being the activation and the second tem being the firing threshold.\n",
    "    * Perceptron Rule\n",
    "        * For each iteration of the Neural Network, we'd want to change our weights if:\n",
    "            * $ w_i = w_i + \\Delta w_i $\n",
    "                * $ \\Delta w_i = \\mathcal{N}(y - \\hat{y})x_i $ for $\\mathcal{N}$ the learning rate and $ x$ the input\n",
    "                    * $ \\hat{y} = (\\sum_i w_i x_i \\ge 0) $ for $ \\hat{y} $ the prediction and $ y $ the target\n",
    "                        * i.e. no change if true, change if false\n",
    "                        * **Only useful for linearly separable data **\n",
    "    * Gradient Descent (min least squares)\n",
    "        * $ a = \\sum_i x_i w_i $ and $ \\hat{y} = \\{a \\ge 0\\} $\n",
    "        * $ e(w) = \\frac{1}{2} \\sum_{(x,y) \\in D)}(y - a)^2 $\n",
    "        * $ \\frac{\\delta e}{\\delta w_i} = \\frac{\\delta}{\\delta w_i} \\frac{1}{2} \\sum_{(x,y) \\in D)}(y - a)^2$\n",
    "        * $ = \\sum_{(x,y) \\in D)} (y-a) \\frac{\\delta}{\\delta w_i} - \\sum_i x_iw_i'$\n",
    "        * $ = \\sum_{(x,y) \\in D)} (y-a)(-x_i) $\n",
    "            * **Robust for non-linearly separable data too**\n",
    "    * Restrication Bias\n",
    "        * Representational Power: we can make perceptions, sigmoids, boolean functions, continuous functions, arbitrary complicated neural networks.\n",
    "    * Preference Bias\n",
    "        * Start with small random values\n",
    "* SVM\n",
    "    * Given the formula for two planes are $ w^Tx_1 + b = 1, w^Tx_2 + b = -1$, we want to maximize their distance:\n",
    "        * $ \\max(x_1 - x_2) = \\max \\dfrac{2}{||w||} $ while classifying everything correctly $ y_i (w^Tx_i + b) \\ge 1 $\n",
    "        * An easier solution is $ min \\frac{1}{2} ||w|| ^ 2 $\n",
    "            * $ W(a) = \\sum_i \\alpha_i - \\frac{1}{2} \\sum_{ij} \\alpha_i \\alpha_j y_i y_j x_i^T x_j $\n",
    "                * $ x_i^T x_j $ is a measure of the similarity of x's. \n",
    "            * $ w = \\sum_i \\alpha_i y_i x_i $\n",
    "                * Most $ \\alpha_i = 0 $. So we make a **machine** that finds the **support vectors**.\n",
    "                * Intuitively, only the points near the decision boundary are the ones that matter.\n",
    "    * In the case that points are not linearly separable, we use the **kernel trick**:\n",
    "        * $ \\Phi(q) = < q_1^2, q_2^2, \\sqrt2q_1q_2 > $.\n",
    "        * $ \\Phi(x)^T \\Phi(y) = x_1y_1^2 + 2x_1y_1x_2y_2 + x_2y_2^2 $\n",
    "            * Note that the kernel can be anything we want\n",
    "            * Therefore, for any **distance calculating** kernal $K$, $W(\\alpha) = \\alpha_i - \\frac{1}{2} \\sum_{ij} \\alpha_i \\alpha_j y_i y_j K(x_i, x_j) $\n",
    "* Naive Bayes\n",
    "    * Goal is to maximize:\n",
    "        * $h_{MAP} = argmax_h Pr(h|D) $ for maximum a posteriori\n",
    "        * $h_{ML} = argmax_h Pr(D|h) $ for maximum likelihood"
   ]
  },
  {
   "cell_type": "code",
   "execution_count": null,
   "metadata": {
    "collapsed": true
   },
   "outputs": [],
   "source": []
  }
 ],
 "metadata": {
  "kernelspec": {
   "display_name": "Python 2",
   "language": "python",
   "name": "python2"
  },
  "language_info": {
   "codemirror_mode": {
    "name": "ipython",
    "version": 2
   },
   "file_extension": ".py",
   "mimetype": "text/x-python",
   "name": "python",
   "nbconvert_exporter": "python",
   "pygments_lexer": "ipython2",
   "version": "2.7.11"
  }
 },
 "nbformat": 4,
 "nbformat_minor": 0
}
